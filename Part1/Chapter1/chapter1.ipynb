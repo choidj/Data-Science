{
 "cells": [
  {
   "attachments": {},
   "cell_type": "markdown",
   "metadata": {},
   "source": [
    "> # 1. Introducing deep learning and the PyTorch Library\n",
    ">   > ## 1.1 The deep learning revolution\n",
    ">   > 머신러닝과 딥러닝의 차이점, 머신러닝에서 딥러닝으로 넘어가는 과정을 설명하고 있다. 기존의 머신러닝은 사람의 _prior knowledge_ 를 이용해서, _feature engineering_를 설계하여 _feature_ 를 추출하여 그것으로 학습하는 것이다. 즉 사람의 주관적인 지식이 들어가며 사람이 직접 설계하기 때문에 손이 많이 가고 비용이 많이 든다. 반면에, 딥러닝은 _feature engineering_ 설계가 필요 없다. 왜냐하면 모델 안에서 _representations_ 을 통해 출력 데이터와 정답 데이터의 차이로 학습을 진행하기 때문이다. \n",
    "<img src=\"https://raw.githubusercontent.com/choidj/Data-Science/main/Part1/Chapter1/figure1_1.png?token=GHSAT0AAAAAACAKTJVZBH6Q5NIOTVADDYKOZA3GKEA\" width=\"80%\" height=\"40%\" title=\"Figure 1.1\" alt=\"Figure 1.1\"></img>\n",
    ">   > ## 1.2 PyTorch for deep learning\n",
    ">   > 파이토치는 파이썬 프로그램의 라이브러리로, 딥러닝 프로젝트를 효율적으로 실행하기 위한 툴이다. 파이토치는 유연성과 구현의 쉬움으로 연구 분야에서 많이 사용되었다. \"clear syntax, streamlined API, and easy debugging\"의 장점으로 인하여 파이토치는 딥러닝 라이브러리들 중에 가장 큰 점유율을 가지게 되었다. 파이토치는 핵심 데이터 구조로 _tensor_(텐서)라는 데이터 구조를 제공하며, 텐서는 딥러닝의 입력과 출력에서 사용되며 복잡한 수학적 함수를 매핑한다. 이 텐서는 _NumPy_ 라이브러리의 array와 매우 유사하여 친숙하게 다룰수 있다. 이러한 파이토치의 장점에 대하여 설명하고 있다.\n",
    ">   > ## 1.3 Why PyTorch?\n",
    ">   >   > ### 1.3.1 The deep learning competitive landscape\n",
    ">   >   > 많은 계산 비용을 요구하는 딥러닝 학습 과정에서 파이토치 라이브러리가 어떻게 계산 비용을 줄여주는 지, 다른 라이브러리들은 어떠한 방식인지 설명하고 있다.\n",
    ">   > ## 1.4 An overview of how PyTorch supports deep learning projects\n",
    ">   > 딥러닝 학습 연산 과정에서 많은 계산 비용을 C++과 CUDA를 이용한 병렬처리로 계산 비용을 감축시키며 또한 입력 데이터를 효율적으로 할당, 여러 개의 GPU를 활용한 _torch.nn.parallel.DistributedDataParallel_ 등 다양한 계산 비용 감축 기술을 설명하고 있다.\n",
    ">   > ## 1.5 Hardware and software requirements\n",
    ">   > 딥러닝은 많은 계산 비용이 들기 때문에 CUDA를 사용할 수 있는 GPU를 사용하도록 하며, GPU를 사용하지 못하는 경우에는 colab 사용을 권하고 있다.\n",
    ">   >   > ### 1.5.1 Using Jupyter Notebooks\n",
    ">   >   > 주피터 노트북은 인터프리터 방식으로 작동하기 때문에 사용하기 간편하다. 이 주피터 노트북에서도 파이토치를 이용할 수 있기 때문에 주피터 노트북을 사용하는 경우에 코드를 어떻게 실행하는지, 변수를 저장하는 방식이나 실행 방식, 마크다운을 사용하는 방법 간단하게 언급하고 있다.\n",
    ">   > ## 1.6 Exercises\n",
    ">   > * Start Python to get an interactive prompt\n",
    ">   >   * What Python version are you using? We hope itis at least 3.6!\n",
    ">   >       * <img src=\"https://raw.githubusercontent.com/choidj/Data-Science/main/Part1/Chapter1/figure1_2.png?token=GHSAT0AAAAAACAKTJVZUYBVVIKL4SWHC6FSZA3GKJA\" width=\"80%\" height=\"40%\" title=\"Figure 1.2\" alt=\"Figure 1.2\"></img>\n",
    ">   >   * Can you import torch? What version of PyTorch do you get?\n",
    ">   >       * <img src=\"https://raw.githubusercontent.com/choidj/Data-Science/main/Part1/Chapter1/figure1_3.PNG?token=GHSAT0AAAAAACAKTJVZUGNV6CBI2HMYNF5SZA3GKOA\" width=\"80%\" height=\"40%\" title=\"Figure 1.3\" alt=\"Figure 1.3\"></img>\n",
    ">   >   * What is the result of torch.cuda.is_available()? Does it match your expectation based on the hardware you’re using?\n",
    ">   >       * <img src=\"https://raw.githubusercontent.com/choidj/Data-Science/main/Part1/Chapter1/figure1_4.PNG?token=GHSAT0AAAAAACAKTJVYJIXTG7EDUHRVWHY6ZA3GKTA\" width=\"80%\" height=\"40%\" title=\"Figure 1.4\" alt=\"Figure 1.4\"></img>\n",
    ">   > * Start the Jupyter notebook server.\n",
    ">   >   * What version of Python is Jupyter using?"
   ]
  },
  {
   "cell_type": "code",
   "execution_count": 5,
   "metadata": {},
   "outputs": [
    {
     "name": "stdout",
     "output_type": "stream",
     "text": [
      "3.9.7 (default, Sep 16 2021, 16:59:28) [MSC v.1916 64 bit (AMD64)]\n"
     ]
    }
   ],
   "source": [
    "import sys\n",
    "print(sys.version)"
   ]
  },
  {
   "attachments": {},
   "cell_type": "markdown",
   "metadata": {},
   "source": [
    ">   >   * Is the location of the torch library used by Jupyter the same as the one you imported from the interactive prompt?"
   ]
  },
  {
   "cell_type": "code",
   "execution_count": 3,
   "metadata": {},
   "outputs": [
    {
     "name": "stdout",
     "output_type": "stream",
     "text": [
      "1.11.0\n"
     ]
    }
   ],
   "source": [
    "import torch\n",
    "print(torch.__version__)"
   ]
  }
 ],
 "metadata": {
  "kernelspec": {
   "display_name": "torch_env",
   "language": "python",
   "name": "python3"
  },
  "language_info": {
   "codemirror_mode": {
    "name": "ipython",
    "version": 3
   },
   "file_extension": ".py",
   "mimetype": "text/x-python",
   "name": "python",
   "nbconvert_exporter": "python",
   "pygments_lexer": "ipython3",
   "version": "3.9.7"
  },
  "orig_nbformat": 4,
  "vscode": {
   "interpreter": {
    "hash": "8beb754378216107581d7780eea4370e3ebbbce014fdbaa8536b20dd625b7bee"
   }
  }
 },
 "nbformat": 4,
 "nbformat_minor": 2
}
